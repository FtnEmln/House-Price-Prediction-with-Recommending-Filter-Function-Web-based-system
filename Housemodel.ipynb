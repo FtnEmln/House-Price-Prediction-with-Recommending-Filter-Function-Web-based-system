{
  "nbformat": 4,
  "nbformat_minor": 0,
  "metadata": {
    "colab": {
      "provenance": []
    },
    "kernelspec": {
      "name": "python3",
      "display_name": "Python 3"
    },
    "language_info": {
      "name": "python"
    }
  },
  "cells": [
    {
      "cell_type": "code",
      "execution_count": 18,
      "metadata": {
        "colab": {
          "base_uri": "https://localhost:8080/",
          "height": 595
        },
        "id": "5f8H6wWECSiJ",
        "outputId": "8291bf80-9021-4737-d5c3-52bf023dd643"
      },
      "outputs": [
        {
          "output_type": "execute_result",
          "data": {
            "text/plain": [
              "                                          HouseTitle  \\\n",
              "0                                   Alyvia Residence   \n",
              "1                                Andira @ Denai Alam   \n",
              "2                            Apartmen Arena Shamelin   \n",
              "3                                   Apartmen Harmoni   \n",
              "4  Apartment AC4 Taman Sri Sentosa , Jalan Klang ...   \n",
              "\n",
              "                                        HouseAddress   Price  Bedroom  \\\n",
              "0                                   Kuching, Sarawak  625000        3   \n",
              "1  Jalan Elektron U 16/89, Denai Alam, Shah Alam,...  800000        4   \n",
              "2  Jalan 3/91 Taman Shamelin Perkasa, Cheras, Kua...  390000        3   \n",
              "3  Jalan PJU 10/4C Damansara Damai, Damansara Dam...  179000        3   \n",
              "4    Old Klang Road (Jalan Klang Lama), Kuala Lumpur  200000        3   \n",
              "\n",
              "   Bathroom  SizeArea              HouseType       HouseStatus  HouseYear  \\\n",
              "0         3      1257           Rumah Bandar  Pegangan Pajakan     2024.0   \n",
              "1         3      2200  Rumah Teres 2 Tingkat    Pegangan Bebas     2017.0   \n",
              "2         2      1024             Pangsapuri    Pegangan Bebas        NaN   \n",
              "3         2       650             Pangsapuri    Pegangan Bebas        NaN   \n",
              "4         2       628             Pangsapuri  Pegangan Pajakan        NaN   \n",
              "\n",
              "                                  Owner  ... transportation  shop  playground  \\\n",
              "0                             Annie Lee  ...              1     1           1   \n",
              "1                Mohd Yunos Bin A.Karim  ...              0     1           1   \n",
              "2                            Belle Fong  ...              1     1           1   \n",
              "3                           Yannie Wong  ...              1     1           0   \n",
              "4  FARAH HANIM BINTI AD SUHADAK SUHADAK  ...              1     1           1   \n",
              "\n",
              "   school  islamic_Centre  pool  sport_facility  medical_Centre  furnished  \\\n",
              "0       1               0     0               1               1          0   \n",
              "1       1               1     0               1               1          2   \n",
              "2       1               1     0               0               1          2   \n",
              "3       1               1     0               0               1          2   \n",
              "4       1               1     0               1               1          0   \n",
              "\n",
              "                                              image1  \n",
              "0  https://my1-cdn.pgimgs.com/listing/31439376/UP...  \n",
              "1  https://my2-cdn.pgimgs.com/listing/34692503/UP...  \n",
              "2  https://my2-cdn.pgimgs.com/listing/36075262/UP...  \n",
              "3  https://my2-cdn.pgimgs.com/listing/34644859/UP...  \n",
              "4  https://my2-cdn.pgimgs.com/listing/34679644/UP...  \n",
              "\n",
              "[5 rows x 21 columns]"
            ],
            "text/html": [
              "\n",
              "  <div id=\"df-50521026-b98b-4853-b802-f0427945e92d\">\n",
              "    <div class=\"colab-df-container\">\n",
              "      <div>\n",
              "<style scoped>\n",
              "    .dataframe tbody tr th:only-of-type {\n",
              "        vertical-align: middle;\n",
              "    }\n",
              "\n",
              "    .dataframe tbody tr th {\n",
              "        vertical-align: top;\n",
              "    }\n",
              "\n",
              "    .dataframe thead th {\n",
              "        text-align: right;\n",
              "    }\n",
              "</style>\n",
              "<table border=\"1\" class=\"dataframe\">\n",
              "  <thead>\n",
              "    <tr style=\"text-align: right;\">\n",
              "      <th></th>\n",
              "      <th>HouseTitle</th>\n",
              "      <th>HouseAddress</th>\n",
              "      <th>Price</th>\n",
              "      <th>Bedroom</th>\n",
              "      <th>Bathroom</th>\n",
              "      <th>SizeArea</th>\n",
              "      <th>HouseType</th>\n",
              "      <th>HouseStatus</th>\n",
              "      <th>HouseYear</th>\n",
              "      <th>Owner</th>\n",
              "      <th>...</th>\n",
              "      <th>transportation</th>\n",
              "      <th>shop</th>\n",
              "      <th>playground</th>\n",
              "      <th>school</th>\n",
              "      <th>islamic_Centre</th>\n",
              "      <th>pool</th>\n",
              "      <th>sport_facility</th>\n",
              "      <th>medical_Centre</th>\n",
              "      <th>furnished</th>\n",
              "      <th>image1</th>\n",
              "    </tr>\n",
              "  </thead>\n",
              "  <tbody>\n",
              "    <tr>\n",
              "      <th>0</th>\n",
              "      <td>Alyvia Residence</td>\n",
              "      <td>Kuching, Sarawak</td>\n",
              "      <td>625000</td>\n",
              "      <td>3</td>\n",
              "      <td>3</td>\n",
              "      <td>1257</td>\n",
              "      <td>Rumah Bandar</td>\n",
              "      <td>Pegangan Pajakan</td>\n",
              "      <td>2024.0</td>\n",
              "      <td>Annie Lee</td>\n",
              "      <td>...</td>\n",
              "      <td>1</td>\n",
              "      <td>1</td>\n",
              "      <td>1</td>\n",
              "      <td>1</td>\n",
              "      <td>0</td>\n",
              "      <td>0</td>\n",
              "      <td>1</td>\n",
              "      <td>1</td>\n",
              "      <td>0</td>\n",
              "      <td>https://my1-cdn.pgimgs.com/listing/31439376/UP...</td>\n",
              "    </tr>\n",
              "    <tr>\n",
              "      <th>1</th>\n",
              "      <td>Andira @ Denai Alam</td>\n",
              "      <td>Jalan Elektron U 16/89, Denai Alam, Shah Alam,...</td>\n",
              "      <td>800000</td>\n",
              "      <td>4</td>\n",
              "      <td>3</td>\n",
              "      <td>2200</td>\n",
              "      <td>Rumah Teres 2 Tingkat</td>\n",
              "      <td>Pegangan Bebas</td>\n",
              "      <td>2017.0</td>\n",
              "      <td>Mohd Yunos Bin A.Karim</td>\n",
              "      <td>...</td>\n",
              "      <td>0</td>\n",
              "      <td>1</td>\n",
              "      <td>1</td>\n",
              "      <td>1</td>\n",
              "      <td>1</td>\n",
              "      <td>0</td>\n",
              "      <td>1</td>\n",
              "      <td>1</td>\n",
              "      <td>2</td>\n",
              "      <td>https://my2-cdn.pgimgs.com/listing/34692503/UP...</td>\n",
              "    </tr>\n",
              "    <tr>\n",
              "      <th>2</th>\n",
              "      <td>Apartmen Arena Shamelin</td>\n",
              "      <td>Jalan 3/91 Taman Shamelin Perkasa, Cheras, Kua...</td>\n",
              "      <td>390000</td>\n",
              "      <td>3</td>\n",
              "      <td>2</td>\n",
              "      <td>1024</td>\n",
              "      <td>Pangsapuri</td>\n",
              "      <td>Pegangan Bebas</td>\n",
              "      <td>NaN</td>\n",
              "      <td>Belle Fong</td>\n",
              "      <td>...</td>\n",
              "      <td>1</td>\n",
              "      <td>1</td>\n",
              "      <td>1</td>\n",
              "      <td>1</td>\n",
              "      <td>1</td>\n",
              "      <td>0</td>\n",
              "      <td>0</td>\n",
              "      <td>1</td>\n",
              "      <td>2</td>\n",
              "      <td>https://my2-cdn.pgimgs.com/listing/36075262/UP...</td>\n",
              "    </tr>\n",
              "    <tr>\n",
              "      <th>3</th>\n",
              "      <td>Apartmen Harmoni</td>\n",
              "      <td>Jalan PJU 10/4C Damansara Damai, Damansara Dam...</td>\n",
              "      <td>179000</td>\n",
              "      <td>3</td>\n",
              "      <td>2</td>\n",
              "      <td>650</td>\n",
              "      <td>Pangsapuri</td>\n",
              "      <td>Pegangan Bebas</td>\n",
              "      <td>NaN</td>\n",
              "      <td>Yannie Wong</td>\n",
              "      <td>...</td>\n",
              "      <td>1</td>\n",
              "      <td>1</td>\n",
              "      <td>0</td>\n",
              "      <td>1</td>\n",
              "      <td>1</td>\n",
              "      <td>0</td>\n",
              "      <td>0</td>\n",
              "      <td>1</td>\n",
              "      <td>2</td>\n",
              "      <td>https://my2-cdn.pgimgs.com/listing/34644859/UP...</td>\n",
              "    </tr>\n",
              "    <tr>\n",
              "      <th>4</th>\n",
              "      <td>Apartment AC4 Taman Sri Sentosa , Jalan Klang ...</td>\n",
              "      <td>Old Klang Road (Jalan Klang Lama), Kuala Lumpur</td>\n",
              "      <td>200000</td>\n",
              "      <td>3</td>\n",
              "      <td>2</td>\n",
              "      <td>628</td>\n",
              "      <td>Pangsapuri</td>\n",
              "      <td>Pegangan Pajakan</td>\n",
              "      <td>NaN</td>\n",
              "      <td>FARAH HANIM BINTI AD SUHADAK SUHADAK</td>\n",
              "      <td>...</td>\n",
              "      <td>1</td>\n",
              "      <td>1</td>\n",
              "      <td>1</td>\n",
              "      <td>1</td>\n",
              "      <td>1</td>\n",
              "      <td>0</td>\n",
              "      <td>1</td>\n",
              "      <td>1</td>\n",
              "      <td>0</td>\n",
              "      <td>https://my2-cdn.pgimgs.com/listing/34679644/UP...</td>\n",
              "    </tr>\n",
              "  </tbody>\n",
              "</table>\n",
              "<p>5 rows × 21 columns</p>\n",
              "</div>\n",
              "      <button class=\"colab-df-convert\" onclick=\"convertToInteractive('df-50521026-b98b-4853-b802-f0427945e92d')\"\n",
              "              title=\"Convert this dataframe to an interactive table.\"\n",
              "              style=\"display:none;\">\n",
              "        \n",
              "  <svg xmlns=\"http://www.w3.org/2000/svg\" height=\"24px\"viewBox=\"0 0 24 24\"\n",
              "       width=\"24px\">\n",
              "    <path d=\"M0 0h24v24H0V0z\" fill=\"none\"/>\n",
              "    <path d=\"M18.56 5.44l.94 2.06.94-2.06 2.06-.94-2.06-.94-.94-2.06-.94 2.06-2.06.94zm-11 1L8.5 8.5l.94-2.06 2.06-.94-2.06-.94L8.5 2.5l-.94 2.06-2.06.94zm10 10l.94 2.06.94-2.06 2.06-.94-2.06-.94-.94-2.06-.94 2.06-2.06.94z\"/><path d=\"M17.41 7.96l-1.37-1.37c-.4-.4-.92-.59-1.43-.59-.52 0-1.04.2-1.43.59L10.3 9.45l-7.72 7.72c-.78.78-.78 2.05 0 2.83L4 21.41c.39.39.9.59 1.41.59.51 0 1.02-.2 1.41-.59l7.78-7.78 2.81-2.81c.8-.78.8-2.07 0-2.86zM5.41 20L4 18.59l7.72-7.72 1.47 1.35L5.41 20z\"/>\n",
              "  </svg>\n",
              "      </button>\n",
              "      \n",
              "  <style>\n",
              "    .colab-df-container {\n",
              "      display:flex;\n",
              "      flex-wrap:wrap;\n",
              "      gap: 12px;\n",
              "    }\n",
              "\n",
              "    .colab-df-convert {\n",
              "      background-color: #E8F0FE;\n",
              "      border: none;\n",
              "      border-radius: 50%;\n",
              "      cursor: pointer;\n",
              "      display: none;\n",
              "      fill: #1967D2;\n",
              "      height: 32px;\n",
              "      padding: 0 0 0 0;\n",
              "      width: 32px;\n",
              "    }\n",
              "\n",
              "    .colab-df-convert:hover {\n",
              "      background-color: #E2EBFA;\n",
              "      box-shadow: 0px 1px 2px rgba(60, 64, 67, 0.3), 0px 1px 3px 1px rgba(60, 64, 67, 0.15);\n",
              "      fill: #174EA6;\n",
              "    }\n",
              "\n",
              "    [theme=dark] .colab-df-convert {\n",
              "      background-color: #3B4455;\n",
              "      fill: #D2E3FC;\n",
              "    }\n",
              "\n",
              "    [theme=dark] .colab-df-convert:hover {\n",
              "      background-color: #434B5C;\n",
              "      box-shadow: 0px 1px 3px 1px rgba(0, 0, 0, 0.15);\n",
              "      filter: drop-shadow(0px 1px 2px rgba(0, 0, 0, 0.3));\n",
              "      fill: #FFFFFF;\n",
              "    }\n",
              "  </style>\n",
              "\n",
              "      <script>\n",
              "        const buttonEl =\n",
              "          document.querySelector('#df-50521026-b98b-4853-b802-f0427945e92d button.colab-df-convert');\n",
              "        buttonEl.style.display =\n",
              "          google.colab.kernel.accessAllowed ? 'block' : 'none';\n",
              "\n",
              "        async function convertToInteractive(key) {\n",
              "          const element = document.querySelector('#df-50521026-b98b-4853-b802-f0427945e92d');\n",
              "          const dataTable =\n",
              "            await google.colab.kernel.invokeFunction('convertToInteractive',\n",
              "                                                     [key], {});\n",
              "          if (!dataTable) return;\n",
              "\n",
              "          const docLinkHtml = 'Like what you see? Visit the ' +\n",
              "            '<a target=\"_blank\" href=https://colab.research.google.com/notebooks/data_table.ipynb>data table notebook</a>'\n",
              "            + ' to learn more about interactive tables.';\n",
              "          element.innerHTML = '';\n",
              "          dataTable['output_type'] = 'display_data';\n",
              "          await google.colab.output.renderOutput(dataTable, element);\n",
              "          const docLink = document.createElement('div');\n",
              "          docLink.innerHTML = docLinkHtml;\n",
              "          element.appendChild(docLink);\n",
              "        }\n",
              "      </script>\n",
              "    </div>\n",
              "  </div>\n",
              "  "
            ]
          },
          "metadata": {},
          "execution_count": 18
        }
      ],
      "source": [
        "import pandas as pd\n",
        "import numpy as np\n",
        "\n",
        "data = pd.read_csv(\"houseData.csv\")\n",
        "data.head()\n"
      ]
    },
    {
      "cell_type": "code",
      "source": [
        "data.shape\n"
      ],
      "metadata": {
        "colab": {
          "base_uri": "https://localhost:8080/"
        },
        "id": "_zlGMhD3Dmb6",
        "outputId": "0a2049f6-7a99-4017-c502-48e288be93b1"
      },
      "execution_count": 19,
      "outputs": [
        {
          "output_type": "execute_result",
          "data": {
            "text/plain": [
              "(53, 21)"
            ]
          },
          "metadata": {},
          "execution_count": 19
        }
      ]
    },
    {
      "cell_type": "code",
      "source": [
        "# remove irrelevant columns \n",
        "data = data.drop(['HouseTitle','HouseYear','HouseAddress','Owner','WasapNo','shop','medical_Centre','image1'],axis=1)\n",
        "data.head()"
      ],
      "metadata": {
        "colab": {
          "base_uri": "https://localhost:8080/",
          "height": 374
        },
        "id": "vG01lIYdDsS5",
        "outputId": "2ab8b2f7-afbc-49ee-c421-c19e2261b661"
      },
      "execution_count": 20,
      "outputs": [
        {
          "output_type": "execute_result",
          "data": {
            "text/plain": [
              "    Price  Bedroom  Bathroom  SizeArea              HouseType  \\\n",
              "0  625000        3         3      1257           Rumah Bandar   \n",
              "1  800000        4         3      2200  Rumah Teres 2 Tingkat   \n",
              "2  390000        3         2      1024             Pangsapuri   \n",
              "3  179000        3         2       650             Pangsapuri   \n",
              "4  200000        3         2       628             Pangsapuri   \n",
              "\n",
              "        HouseStatus  transportation  playground  school  islamic_Centre  pool  \\\n",
              "0  Pegangan Pajakan               1           1       1               0     0   \n",
              "1    Pegangan Bebas               0           1       1               1     0   \n",
              "2    Pegangan Bebas               1           1       1               1     0   \n",
              "3    Pegangan Bebas               1           0       1               1     0   \n",
              "4  Pegangan Pajakan               1           1       1               1     0   \n",
              "\n",
              "   sport_facility  furnished  \n",
              "0               1          0  \n",
              "1               1          2  \n",
              "2               0          2  \n",
              "3               0          2  \n",
              "4               1          0  "
            ],
            "text/html": [
              "\n",
              "  <div id=\"df-29050fc5-8862-4a43-a955-62a35750771e\">\n",
              "    <div class=\"colab-df-container\">\n",
              "      <div>\n",
              "<style scoped>\n",
              "    .dataframe tbody tr th:only-of-type {\n",
              "        vertical-align: middle;\n",
              "    }\n",
              "\n",
              "    .dataframe tbody tr th {\n",
              "        vertical-align: top;\n",
              "    }\n",
              "\n",
              "    .dataframe thead th {\n",
              "        text-align: right;\n",
              "    }\n",
              "</style>\n",
              "<table border=\"1\" class=\"dataframe\">\n",
              "  <thead>\n",
              "    <tr style=\"text-align: right;\">\n",
              "      <th></th>\n",
              "      <th>Price</th>\n",
              "      <th>Bedroom</th>\n",
              "      <th>Bathroom</th>\n",
              "      <th>SizeArea</th>\n",
              "      <th>HouseType</th>\n",
              "      <th>HouseStatus</th>\n",
              "      <th>transportation</th>\n",
              "      <th>playground</th>\n",
              "      <th>school</th>\n",
              "      <th>islamic_Centre</th>\n",
              "      <th>pool</th>\n",
              "      <th>sport_facility</th>\n",
              "      <th>furnished</th>\n",
              "    </tr>\n",
              "  </thead>\n",
              "  <tbody>\n",
              "    <tr>\n",
              "      <th>0</th>\n",
              "      <td>625000</td>\n",
              "      <td>3</td>\n",
              "      <td>3</td>\n",
              "      <td>1257</td>\n",
              "      <td>Rumah Bandar</td>\n",
              "      <td>Pegangan Pajakan</td>\n",
              "      <td>1</td>\n",
              "      <td>1</td>\n",
              "      <td>1</td>\n",
              "      <td>0</td>\n",
              "      <td>0</td>\n",
              "      <td>1</td>\n",
              "      <td>0</td>\n",
              "    </tr>\n",
              "    <tr>\n",
              "      <th>1</th>\n",
              "      <td>800000</td>\n",
              "      <td>4</td>\n",
              "      <td>3</td>\n",
              "      <td>2200</td>\n",
              "      <td>Rumah Teres 2 Tingkat</td>\n",
              "      <td>Pegangan Bebas</td>\n",
              "      <td>0</td>\n",
              "      <td>1</td>\n",
              "      <td>1</td>\n",
              "      <td>1</td>\n",
              "      <td>0</td>\n",
              "      <td>1</td>\n",
              "      <td>2</td>\n",
              "    </tr>\n",
              "    <tr>\n",
              "      <th>2</th>\n",
              "      <td>390000</td>\n",
              "      <td>3</td>\n",
              "      <td>2</td>\n",
              "      <td>1024</td>\n",
              "      <td>Pangsapuri</td>\n",
              "      <td>Pegangan Bebas</td>\n",
              "      <td>1</td>\n",
              "      <td>1</td>\n",
              "      <td>1</td>\n",
              "      <td>1</td>\n",
              "      <td>0</td>\n",
              "      <td>0</td>\n",
              "      <td>2</td>\n",
              "    </tr>\n",
              "    <tr>\n",
              "      <th>3</th>\n",
              "      <td>179000</td>\n",
              "      <td>3</td>\n",
              "      <td>2</td>\n",
              "      <td>650</td>\n",
              "      <td>Pangsapuri</td>\n",
              "      <td>Pegangan Bebas</td>\n",
              "      <td>1</td>\n",
              "      <td>0</td>\n",
              "      <td>1</td>\n",
              "      <td>1</td>\n",
              "      <td>0</td>\n",
              "      <td>0</td>\n",
              "      <td>2</td>\n",
              "    </tr>\n",
              "    <tr>\n",
              "      <th>4</th>\n",
              "      <td>200000</td>\n",
              "      <td>3</td>\n",
              "      <td>2</td>\n",
              "      <td>628</td>\n",
              "      <td>Pangsapuri</td>\n",
              "      <td>Pegangan Pajakan</td>\n",
              "      <td>1</td>\n",
              "      <td>1</td>\n",
              "      <td>1</td>\n",
              "      <td>1</td>\n",
              "      <td>0</td>\n",
              "      <td>1</td>\n",
              "      <td>0</td>\n",
              "    </tr>\n",
              "  </tbody>\n",
              "</table>\n",
              "</div>\n",
              "      <button class=\"colab-df-convert\" onclick=\"convertToInteractive('df-29050fc5-8862-4a43-a955-62a35750771e')\"\n",
              "              title=\"Convert this dataframe to an interactive table.\"\n",
              "              style=\"display:none;\">\n",
              "        \n",
              "  <svg xmlns=\"http://www.w3.org/2000/svg\" height=\"24px\"viewBox=\"0 0 24 24\"\n",
              "       width=\"24px\">\n",
              "    <path d=\"M0 0h24v24H0V0z\" fill=\"none\"/>\n",
              "    <path d=\"M18.56 5.44l.94 2.06.94-2.06 2.06-.94-2.06-.94-.94-2.06-.94 2.06-2.06.94zm-11 1L8.5 8.5l.94-2.06 2.06-.94-2.06-.94L8.5 2.5l-.94 2.06-2.06.94zm10 10l.94 2.06.94-2.06 2.06-.94-2.06-.94-.94-2.06-.94 2.06-2.06.94z\"/><path d=\"M17.41 7.96l-1.37-1.37c-.4-.4-.92-.59-1.43-.59-.52 0-1.04.2-1.43.59L10.3 9.45l-7.72 7.72c-.78.78-.78 2.05 0 2.83L4 21.41c.39.39.9.59 1.41.59.51 0 1.02-.2 1.41-.59l7.78-7.78 2.81-2.81c.8-.78.8-2.07 0-2.86zM5.41 20L4 18.59l7.72-7.72 1.47 1.35L5.41 20z\"/>\n",
              "  </svg>\n",
              "      </button>\n",
              "      \n",
              "  <style>\n",
              "    .colab-df-container {\n",
              "      display:flex;\n",
              "      flex-wrap:wrap;\n",
              "      gap: 12px;\n",
              "    }\n",
              "\n",
              "    .colab-df-convert {\n",
              "      background-color: #E8F0FE;\n",
              "      border: none;\n",
              "      border-radius: 50%;\n",
              "      cursor: pointer;\n",
              "      display: none;\n",
              "      fill: #1967D2;\n",
              "      height: 32px;\n",
              "      padding: 0 0 0 0;\n",
              "      width: 32px;\n",
              "    }\n",
              "\n",
              "    .colab-df-convert:hover {\n",
              "      background-color: #E2EBFA;\n",
              "      box-shadow: 0px 1px 2px rgba(60, 64, 67, 0.3), 0px 1px 3px 1px rgba(60, 64, 67, 0.15);\n",
              "      fill: #174EA6;\n",
              "    }\n",
              "\n",
              "    [theme=dark] .colab-df-convert {\n",
              "      background-color: #3B4455;\n",
              "      fill: #D2E3FC;\n",
              "    }\n",
              "\n",
              "    [theme=dark] .colab-df-convert:hover {\n",
              "      background-color: #434B5C;\n",
              "      box-shadow: 0px 1px 3px 1px rgba(0, 0, 0, 0.15);\n",
              "      filter: drop-shadow(0px 1px 2px rgba(0, 0, 0, 0.3));\n",
              "      fill: #FFFFFF;\n",
              "    }\n",
              "  </style>\n",
              "\n",
              "      <script>\n",
              "        const buttonEl =\n",
              "          document.querySelector('#df-29050fc5-8862-4a43-a955-62a35750771e button.colab-df-convert');\n",
              "        buttonEl.style.display =\n",
              "          google.colab.kernel.accessAllowed ? 'block' : 'none';\n",
              "\n",
              "        async function convertToInteractive(key) {\n",
              "          const element = document.querySelector('#df-29050fc5-8862-4a43-a955-62a35750771e');\n",
              "          const dataTable =\n",
              "            await google.colab.kernel.invokeFunction('convertToInteractive',\n",
              "                                                     [key], {});\n",
              "          if (!dataTable) return;\n",
              "\n",
              "          const docLinkHtml = 'Like what you see? Visit the ' +\n",
              "            '<a target=\"_blank\" href=https://colab.research.google.com/notebooks/data_table.ipynb>data table notebook</a>'\n",
              "            + ' to learn more about interactive tables.';\n",
              "          element.innerHTML = '';\n",
              "          dataTable['output_type'] = 'display_data';\n",
              "          await google.colab.output.renderOutput(dataTable, element);\n",
              "          const docLink = document.createElement('div');\n",
              "          docLink.innerHTML = docLinkHtml;\n",
              "          element.appendChild(docLink);\n",
              "        }\n",
              "      </script>\n",
              "    </div>\n",
              "  </div>\n",
              "  "
            ]
          },
          "metadata": {},
          "execution_count": 20
        }
      ]
    },
    {
      "cell_type": "code",
      "source": [
        "# check for missing data\n",
        "data.isnull().sum()"
      ],
      "metadata": {
        "colab": {
          "base_uri": "https://localhost:8080/"
        },
        "id": "WEtXQbBvGNdM",
        "outputId": "4477946d-195a-4e0e-c7b6-5c4eba5c1506"
      },
      "execution_count": 21,
      "outputs": [
        {
          "output_type": "execute_result",
          "data": {
            "text/plain": [
              "Price             0\n",
              "Bedroom           0\n",
              "Bathroom          0\n",
              "SizeArea          0\n",
              "HouseType         0\n",
              "HouseStatus       0\n",
              "transportation    0\n",
              "playground        0\n",
              "school            0\n",
              "islamic_Centre    0\n",
              "pool              0\n",
              "sport_facility    0\n",
              "furnished         0\n",
              "dtype: int64"
            ]
          },
          "metadata": {},
          "execution_count": 21
        }
      ]
    },
    {
      "cell_type": "code",
      "source": [
        "print(data)"
      ],
      "metadata": {
        "colab": {
          "base_uri": "https://localhost:8080/"
        },
        "id": "5b20Ar7zODJF",
        "outputId": "0edabe10-e74a-44c1-cb3a-2802b13790b6"
      },
      "execution_count": 22,
      "outputs": [
        {
          "output_type": "stream",
          "name": "stdout",
          "text": [
            "      Price  Bedroom  Bathroom  SizeArea                HouseType  \\\n",
            "0    625000        3         3      1257             Rumah Bandar   \n",
            "1    800000        4         3      2200    Rumah Teres 2 Tingkat   \n",
            "2    390000        3         2      1024               Pangsapuri   \n",
            "3    179000        3         2       650               Pangsapuri   \n",
            "4    200000        3         2       628               Pangsapuri   \n",
            "5    105000        3         2       650               Pangsapuri   \n",
            "6    190000        3         2       720               Pangsapuri   \n",
            "7    180000        3         2       675               Pangsapuri   \n",
            "8    255000        3         2       696               Pangsapuri   \n",
            "9    320000        3         2       815               Pangsapuri   \n",
            "10   170000        3         2       650               Pangsapuri   \n",
            "11   295000        3         2       922               Pangsapuri   \n",
            "12   160000        3         2       720               Pangsapuri   \n",
            "13   265000        3         2       773               Pangsapuri   \n",
            "14   850000        4         4      2200  Rumah Teres 2.5 Tingkat   \n",
            "15   620000        3         3      1680    Rumah Teres 2 Tingkat   \n",
            "16   470000        4         3      1400    Rumah Teres 2 Tingkat   \n",
            "17   320000        3         2       900               Pangsapuri   \n",
            "18   310000        3         2       783               Pangsapuri   \n",
            "19   310000        3         2       783               Pangsapuri   \n",
            "20   235000        2         1       600               Pangsapuri   \n",
            "21  2375800        4         5      2572               Pangsapuri   \n",
            "22  1967800        4         5      2325               Pangsapuri   \n",
            "23  1150000        4         3      3433             Rumah Bandar   \n",
            "24   215000        1         1       555               Pangsapuri   \n",
            "25   328000        3         2       847               Pangsapuri   \n",
            "26   235000        3         2       860               Pangsapuri   \n",
            "27   310000        3         2       883               Pangsapuri   \n",
            "28   298000        3         2      1019               Pangsapuri   \n",
            "29   360000        3         2      1150               Pangsapuri   \n",
            "30   275000        3         2       700               Pangsapuri   \n",
            "31   260000        3         2       710               Pangsapuri   \n",
            "32   190000        3         2       800               Pangsapuri   \n",
            "33   320000        3         2       901               Pangsapuri   \n",
            "34   420000        3         2      1030               Pangsapuri   \n",
            "35   200000        3         2       900               Pangsapuri   \n",
            "36   188000        3         2       807               Pangsapuri   \n",
            "37   278000        2         2       650               Pangsapuri   \n",
            "38  1800000        3         3      1502              Kondominium   \n",
            "39  1450000        2         2      1159              Kondominium   \n",
            "40   355000        3         2       838               Pangsapuri   \n",
            "41   680000        4         3      1600               Pangsapuri   \n",
            "42   324999        3         2      1104               Pangsapuri   \n",
            "43   198000        3         2      1063    Rumah Teres 1 Tingkat   \n",
            "44   315000        3         2       750               Pangsapuri   \n",
            "45   420000        3         2       935               Pangsapuri   \n",
            "46   420000        3         2       935               Pangsapuri   \n",
            "47   280000        2         2       686               Pangsapuri   \n",
            "48   390000        3         2       982               Pangsapuri   \n",
            "49   280000        3         2      1162               Pangsapuri   \n",
            "50  3900000        4         5      3900               Pangsapuri   \n",
            "51  1150000        3         2      1519               Pangsapuri   \n",
            "52   830000        5         5      2899  Rumah Teres 2.5 Tingkat   \n",
            "\n",
            "         HouseStatus  transportation  playground  school  islamic_Centre  \\\n",
            "0   Pegangan Pajakan               1           1       1               0   \n",
            "1     Pegangan Bebas               0           1       1               1   \n",
            "2     Pegangan Bebas               1           1       1               1   \n",
            "3     Pegangan Bebas               1           0       1               1   \n",
            "4   Pegangan Pajakan               1           1       1               1   \n",
            "5     Pegangan Bebas               1           0       1               1   \n",
            "6     Pegangan Bebas               0           0       1               1   \n",
            "7     Pegangan Bebas               1           1       1               1   \n",
            "8     Pegangan Bebas               1           1       1               1   \n",
            "9   Pegangan Pajakan               1           1       1               1   \n",
            "10    Pegangan Bebas               1           1       1               1   \n",
            "11  Pegangan Pajakan               1           1       1               1   \n",
            "12    Pegangan Bebas               0           0       1               1   \n",
            "13    Pegangan Bebas               1           1       1               1   \n",
            "14    Pegangan Bebas               1           0       1               1   \n",
            "15    Pegangan Bebas               1           0       1               1   \n",
            "16  Pegangan Pajakan               1           1       1               1   \n",
            "17  Pegangan pajakan               1           0       1               1   \n",
            "18    Pegangan Bebas               1           1       1               1   \n",
            "19    Pegangan Bebas               1           1       1               1   \n",
            "20    Pegangan Bebas               1           1       1               1   \n",
            "21  Pegangan Pajakan               1           1       1               0   \n",
            "22  Pegangan Pajakan               1           1       1               0   \n",
            "23    Pegangan Bebas               1           1       1               0   \n",
            "24    Pegangan Bebas               0           1       1               1   \n",
            "25    Pegangan Bebas               1           0       1               1   \n",
            "26    Pegangan Bebas               1           1       1               1   \n",
            "27    Pegangan Bebas               1           1       1               1   \n",
            "28  Pegangan Pajakan               1           0       1               0   \n",
            "29    Pegangan Bebas               1           1       1               1   \n",
            "30    Pegangan Bebas               1           1       0               1   \n",
            "31    Pegangan Bebas               1           1       0               1   \n",
            "32    Pegangan Bebas               1           1       0               1   \n",
            "33    Pegangan Bebas               1           1       1               1   \n",
            "34    Pegangan Bebas               1           1       1               1   \n",
            "35    Pegangan Bebas               1           1       1               1   \n",
            "36    Pegangan Bebas               1           1       1               1   \n",
            "37  Pegangan Pajakan               0           1       1               1   \n",
            "38  Pegangan Pajakan               1           1       1               1   \n",
            "39  Pegangan Pajakan               1           1       1               1   \n",
            "40    Pegangan Bebas               1           1       1               1   \n",
            "41    Pegangan Bebas               1           1       1               1   \n",
            "42  Pegangan Pajakan               1           1       1               1   \n",
            "43  Pegangan Pajakan               0           1       1               1   \n",
            "44  Pegangan Pajakan               0           1       1               1   \n",
            "45    Pegangan Bebas               1           1       1               1   \n",
            "46    Pegangan Bebas               1           1       1               1   \n",
            "47    Pegangan Bebas               0           1       1               1   \n",
            "48    Pegangan Bebas               0           1       1               0   \n",
            "49    Pegangan Bebas               1           0       1               1   \n",
            "50    Pegangan Bebas               1           1       1               1   \n",
            "51  Pegangan Pajakan               1           1       1               1   \n",
            "52    Pegangan Bebas               1           1       1               1   \n",
            "\n",
            "    pool  sport_facility  furnished  \n",
            "0      0               1          0  \n",
            "1      0               1          2  \n",
            "2      0               0          2  \n",
            "3      0               0          2  \n",
            "4      0               1          0  \n",
            "5      0               0          2  \n",
            "6      0               0          0  \n",
            "7      0               1          2  \n",
            "8      0               1          2  \n",
            "9      0               1          0  \n",
            "10     0               1          2  \n",
            "11     0               0          1  \n",
            "12     0               1          0  \n",
            "13     0               1          0  \n",
            "14     0               0          0  \n",
            "15     0               0          0  \n",
            "16     0               1          1  \n",
            "17     0               0          2  \n",
            "18     0               1          0  \n",
            "19     0               1          0  \n",
            "20     0               1          0  \n",
            "21     1               1          0  \n",
            "22     1               1          0  \n",
            "23     1               1          2  \n",
            "24     1               1          1  \n",
            "25     1               0          1  \n",
            "26     1               1          1  \n",
            "27     1               1          1  \n",
            "28     1               1          1  \n",
            "29     1               1          2  \n",
            "30     1               1          0  \n",
            "31     1               1          0  \n",
            "32     1               1          1  \n",
            "33     1               1          1  \n",
            "34     1               1          1  \n",
            "35     1               1          1  \n",
            "36     1               1          1  \n",
            "37     1               1          0  \n",
            "38     1               1          0  \n",
            "39     1               1          0  \n",
            "40     1               1          0  \n",
            "41     1               1          0  \n",
            "42     1               1          2  \n",
            "43     1               1          0  \n",
            "44     1               1          1  \n",
            "45     1               1          1  \n",
            "46     1               1          1  \n",
            "47     1               1          0  \n",
            "48     1               1          2  \n",
            "49     1               0          2  \n",
            "50     1               1          1  \n",
            "51     1               0          2  \n",
            "52     0               1          0  \n"
          ]
        }
      ]
    },
    {
      "cell_type": "code",
      "source": [
        "import pandas as pd\n",
        "import numpy as np\n",
        "\n",
        "data.dropna(inplace=True)\n",
        "print(data)"
      ],
      "metadata": {
        "colab": {
          "base_uri": "https://localhost:8080/"
        },
        "id": "wquE7du_MmJA",
        "outputId": "c5661d54-0817-498e-c470-cd92818eb00c"
      },
      "execution_count": 23,
      "outputs": [
        {
          "output_type": "stream",
          "name": "stdout",
          "text": [
            "      Price  Bedroom  Bathroom  SizeArea                HouseType  \\\n",
            "0    625000        3         3      1257             Rumah Bandar   \n",
            "1    800000        4         3      2200    Rumah Teres 2 Tingkat   \n",
            "2    390000        3         2      1024               Pangsapuri   \n",
            "3    179000        3         2       650               Pangsapuri   \n",
            "4    200000        3         2       628               Pangsapuri   \n",
            "5    105000        3         2       650               Pangsapuri   \n",
            "6    190000        3         2       720               Pangsapuri   \n",
            "7    180000        3         2       675               Pangsapuri   \n",
            "8    255000        3         2       696               Pangsapuri   \n",
            "9    320000        3         2       815               Pangsapuri   \n",
            "10   170000        3         2       650               Pangsapuri   \n",
            "11   295000        3         2       922               Pangsapuri   \n",
            "12   160000        3         2       720               Pangsapuri   \n",
            "13   265000        3         2       773               Pangsapuri   \n",
            "14   850000        4         4      2200  Rumah Teres 2.5 Tingkat   \n",
            "15   620000        3         3      1680    Rumah Teres 2 Tingkat   \n",
            "16   470000        4         3      1400    Rumah Teres 2 Tingkat   \n",
            "17   320000        3         2       900               Pangsapuri   \n",
            "18   310000        3         2       783               Pangsapuri   \n",
            "19   310000        3         2       783               Pangsapuri   \n",
            "20   235000        2         1       600               Pangsapuri   \n",
            "21  2375800        4         5      2572               Pangsapuri   \n",
            "22  1967800        4         5      2325               Pangsapuri   \n",
            "23  1150000        4         3      3433             Rumah Bandar   \n",
            "24   215000        1         1       555               Pangsapuri   \n",
            "25   328000        3         2       847               Pangsapuri   \n",
            "26   235000        3         2       860               Pangsapuri   \n",
            "27   310000        3         2       883               Pangsapuri   \n",
            "28   298000        3         2      1019               Pangsapuri   \n",
            "29   360000        3         2      1150               Pangsapuri   \n",
            "30   275000        3         2       700               Pangsapuri   \n",
            "31   260000        3         2       710               Pangsapuri   \n",
            "32   190000        3         2       800               Pangsapuri   \n",
            "33   320000        3         2       901               Pangsapuri   \n",
            "34   420000        3         2      1030               Pangsapuri   \n",
            "35   200000        3         2       900               Pangsapuri   \n",
            "36   188000        3         2       807               Pangsapuri   \n",
            "37   278000        2         2       650               Pangsapuri   \n",
            "38  1800000        3         3      1502              Kondominium   \n",
            "39  1450000        2         2      1159              Kondominium   \n",
            "40   355000        3         2       838               Pangsapuri   \n",
            "41   680000        4         3      1600               Pangsapuri   \n",
            "42   324999        3         2      1104               Pangsapuri   \n",
            "43   198000        3         2      1063    Rumah Teres 1 Tingkat   \n",
            "44   315000        3         2       750               Pangsapuri   \n",
            "45   420000        3         2       935               Pangsapuri   \n",
            "46   420000        3         2       935               Pangsapuri   \n",
            "47   280000        2         2       686               Pangsapuri   \n",
            "48   390000        3         2       982               Pangsapuri   \n",
            "49   280000        3         2      1162               Pangsapuri   \n",
            "50  3900000        4         5      3900               Pangsapuri   \n",
            "51  1150000        3         2      1519               Pangsapuri   \n",
            "52   830000        5         5      2899  Rumah Teres 2.5 Tingkat   \n",
            "\n",
            "         HouseStatus  transportation  playground  school  islamic_Centre  \\\n",
            "0   Pegangan Pajakan               1           1       1               0   \n",
            "1     Pegangan Bebas               0           1       1               1   \n",
            "2     Pegangan Bebas               1           1       1               1   \n",
            "3     Pegangan Bebas               1           0       1               1   \n",
            "4   Pegangan Pajakan               1           1       1               1   \n",
            "5     Pegangan Bebas               1           0       1               1   \n",
            "6     Pegangan Bebas               0           0       1               1   \n",
            "7     Pegangan Bebas               1           1       1               1   \n",
            "8     Pegangan Bebas               1           1       1               1   \n",
            "9   Pegangan Pajakan               1           1       1               1   \n",
            "10    Pegangan Bebas               1           1       1               1   \n",
            "11  Pegangan Pajakan               1           1       1               1   \n",
            "12    Pegangan Bebas               0           0       1               1   \n",
            "13    Pegangan Bebas               1           1       1               1   \n",
            "14    Pegangan Bebas               1           0       1               1   \n",
            "15    Pegangan Bebas               1           0       1               1   \n",
            "16  Pegangan Pajakan               1           1       1               1   \n",
            "17  Pegangan pajakan               1           0       1               1   \n",
            "18    Pegangan Bebas               1           1       1               1   \n",
            "19    Pegangan Bebas               1           1       1               1   \n",
            "20    Pegangan Bebas               1           1       1               1   \n",
            "21  Pegangan Pajakan               1           1       1               0   \n",
            "22  Pegangan Pajakan               1           1       1               0   \n",
            "23    Pegangan Bebas               1           1       1               0   \n",
            "24    Pegangan Bebas               0           1       1               1   \n",
            "25    Pegangan Bebas               1           0       1               1   \n",
            "26    Pegangan Bebas               1           1       1               1   \n",
            "27    Pegangan Bebas               1           1       1               1   \n",
            "28  Pegangan Pajakan               1           0       1               0   \n",
            "29    Pegangan Bebas               1           1       1               1   \n",
            "30    Pegangan Bebas               1           1       0               1   \n",
            "31    Pegangan Bebas               1           1       0               1   \n",
            "32    Pegangan Bebas               1           1       0               1   \n",
            "33    Pegangan Bebas               1           1       1               1   \n",
            "34    Pegangan Bebas               1           1       1               1   \n",
            "35    Pegangan Bebas               1           1       1               1   \n",
            "36    Pegangan Bebas               1           1       1               1   \n",
            "37  Pegangan Pajakan               0           1       1               1   \n",
            "38  Pegangan Pajakan               1           1       1               1   \n",
            "39  Pegangan Pajakan               1           1       1               1   \n",
            "40    Pegangan Bebas               1           1       1               1   \n",
            "41    Pegangan Bebas               1           1       1               1   \n",
            "42  Pegangan Pajakan               1           1       1               1   \n",
            "43  Pegangan Pajakan               0           1       1               1   \n",
            "44  Pegangan Pajakan               0           1       1               1   \n",
            "45    Pegangan Bebas               1           1       1               1   \n",
            "46    Pegangan Bebas               1           1       1               1   \n",
            "47    Pegangan Bebas               0           1       1               1   \n",
            "48    Pegangan Bebas               0           1       1               0   \n",
            "49    Pegangan Bebas               1           0       1               1   \n",
            "50    Pegangan Bebas               1           1       1               1   \n",
            "51  Pegangan Pajakan               1           1       1               1   \n",
            "52    Pegangan Bebas               1           1       1               1   \n",
            "\n",
            "    pool  sport_facility  furnished  \n",
            "0      0               1          0  \n",
            "1      0               1          2  \n",
            "2      0               0          2  \n",
            "3      0               0          2  \n",
            "4      0               1          0  \n",
            "5      0               0          2  \n",
            "6      0               0          0  \n",
            "7      0               1          2  \n",
            "8      0               1          2  \n",
            "9      0               1          0  \n",
            "10     0               1          2  \n",
            "11     0               0          1  \n",
            "12     0               1          0  \n",
            "13     0               1          0  \n",
            "14     0               0          0  \n",
            "15     0               0          0  \n",
            "16     0               1          1  \n",
            "17     0               0          2  \n",
            "18     0               1          0  \n",
            "19     0               1          0  \n",
            "20     0               1          0  \n",
            "21     1               1          0  \n",
            "22     1               1          0  \n",
            "23     1               1          2  \n",
            "24     1               1          1  \n",
            "25     1               0          1  \n",
            "26     1               1          1  \n",
            "27     1               1          1  \n",
            "28     1               1          1  \n",
            "29     1               1          2  \n",
            "30     1               1          0  \n",
            "31     1               1          0  \n",
            "32     1               1          1  \n",
            "33     1               1          1  \n",
            "34     1               1          1  \n",
            "35     1               1          1  \n",
            "36     1               1          1  \n",
            "37     1               1          0  \n",
            "38     1               1          0  \n",
            "39     1               1          0  \n",
            "40     1               1          0  \n",
            "41     1               1          0  \n",
            "42     1               1          2  \n",
            "43     1               1          0  \n",
            "44     1               1          1  \n",
            "45     1               1          1  \n",
            "46     1               1          1  \n",
            "47     1               1          0  \n",
            "48     1               1          2  \n",
            "49     1               0          2  \n",
            "50     1               1          1  \n",
            "51     1               0          2  \n",
            "52     0               1          0  \n"
          ]
        }
      ]
    },
    {
      "cell_type": "code",
      "source": [
        "# check for missing data\n",
        "data.isnull().sum()"
      ],
      "metadata": {
        "colab": {
          "base_uri": "https://localhost:8080/"
        },
        "id": "60OU7_a0N5zm",
        "outputId": "fea110ba-f464-441b-8de7-95ee4a55d8c2"
      },
      "execution_count": 24,
      "outputs": [
        {
          "output_type": "execute_result",
          "data": {
            "text/plain": [
              "Price             0\n",
              "Bedroom           0\n",
              "Bathroom          0\n",
              "SizeArea          0\n",
              "HouseType         0\n",
              "HouseStatus       0\n",
              "transportation    0\n",
              "playground        0\n",
              "school            0\n",
              "islamic_Centre    0\n",
              "pool              0\n",
              "sport_facility    0\n",
              "furnished         0\n",
              "dtype: int64"
            ]
          },
          "metadata": {},
          "execution_count": 24
        }
      ]
    },
    {
      "cell_type": "code",
      "source": [
        "# use boxplot to find outliers\n",
        "\n",
        "import matplotlib.pyplot as plt\n",
        "data.boxplot(column=['Price'])\n",
        "plt.title(\"Detecting Outliers\")\n",
        "plt.xlabel('Features')\n",
        "plt.show()"
      ],
      "metadata": {
        "colab": {
          "base_uri": "https://localhost:8080/",
          "height": 295
        },
        "id": "jyGRENssGZf0",
        "outputId": "e3394175-52a9-4a71-b70f-9c3c6ab92134"
      },
      "execution_count": 25,
      "outputs": [
        {
          "output_type": "display_data",
          "data": {
            "text/plain": [
              "<Figure size 432x288 with 1 Axes>"
            ],
            "image/png": "[encoded data removed]"
          },
          "metadata": {
            "needs_background": "light"
          }
        }
      ]
    },
    {
      "cell_type": "code",
      "source": [
        "# function to detect outliers in a column\n",
        "\n",
        "def findOutliers(data,col):\n",
        "    q3 = data[col].quantile(0.75)\n",
        "    q1 = data[col].quantile(0.25)\n",
        "    iqr = q3 - q1\n",
        "    \n",
        "    upper_bound = q3 + (1.5 * iqr)\n",
        "    lower_bound = q1 - (1.5 * iqr)\n",
        "    \n",
        "    outliersList = data.index[ (data[col] < lower_bound) | (data[col] > upper_bound)] \n",
        "    \n",
        "    return outliersList"
      ],
      "metadata": {
        "id": "a0W1mJd6GyEj"
      },
      "execution_count": 26,
      "outputs": []
    },
    {
      "cell_type": "code",
      "source": [
        "# find outliers in the columns\n",
        "\n",
        "indexList = []\n",
        "for col in ['Price']:\n",
        "    indexList.extend(findOutliers(data,col))"
      ],
      "metadata": {
        "id": "KYp-S3c-G08q"
      },
      "execution_count": 27,
      "outputs": []
    },
    {
      "cell_type": "code",
      "source": [
        "# remove the outliers\n",
        "\n",
        "def removeOutliers(data,outliersList):\n",
        "    outliersList = sorted(set(outliersList))\n",
        "    data = data.drop(outliersList)\n",
        "    return data\n",
        "\n",
        "data = removeOutliers(data,indexList)\n"
      ],
      "metadata": {
        "id": "h1jl82doG-Bb"
      },
      "execution_count": 28,
      "outputs": []
    },
    {
      "cell_type": "code",
      "source": [
        "# check outliers\n",
        "\n",
        "import matplotlib.pyplot as plt\n",
        "data.boxplot(column=['Price'])\n",
        "plt.title(\"Outliers Removed\")\n",
        "plt.xlabel('Features')\n",
        "plt.show()\n"
      ],
      "metadata": {
        "colab": {
          "base_uri": "https://localhost:8080/",
          "height": 295
        },
        "id": "L2_vnZQ6HBVz",
        "outputId": "6726a605-831b-40dd-b22d-a371e274dab8"
      },
      "execution_count": 29,
      "outputs": [
        {
          "output_type": "display_data",
          "data": {
            "text/plain": [
              "<Figure size 432x288 with 1 Axes>"
            ],
            "image/png": "[encoded data removed]"
          },
          "metadata": {
            "needs_background": "light"
          }
        }
      ]
    },
    {
      "cell_type": "code",
      "source": [
        "def transform_Type_of_house(x):\n",
        "    if x=='Pangsapuri':\n",
        "        return 1 \n",
        "    elif x=='Rumah Bandar':\n",
        "        return 2 \n",
        "    elif x == 'Rumah Teres 1 Tingkat':\n",
        "        return 3 \n",
        "    elif x == 'Rumah Teres 1.5 Tingkat':\n",
        "        return 4 \n",
        "    elif x == 'Rumah Teres 2 Tingkat':\n",
        "        return 5\n",
        "    elif x == 'Rumah Teres 2.5 Tingkat':\n",
        "        return 6\n",
        "    elif x == 'Rumah Teres 3 Tingkat':\n",
        "        return 7\n",
        "    elif x == 'Rumah Banglo':\n",
        "        return 8\n",
        "    elif x == 'Rumah Flat':\n",
        "        return 9\n",
        "    elif x == 'Rumah Berkembar':\n",
        "        return 10\n",
        "    elif x == 'Rumah Teres':\n",
        "        return 11\n",
        "    elif x == 'Servis Apartment':\n",
        "        return 12\n",
        "    elif x == 'Dupleks':\n",
        "        return 13\n",
        "    elif x == 'Banglo Pautan':\n",
        "        return 14\n",
        "    elif x == 'Kondominium':\n",
        "        return 15\n",
        "    elif x == 'Rumah Kluster':\n",
        "        return 16\n",
        "data['HouseType'] = data['HouseType'].apply(transform_Type_of_house)"
      ],
      "metadata": {
        "id": "-OmnJM9tHOya"
      },
      "execution_count": 30,
      "outputs": []
    },
    {
      "cell_type": "code",
      "source": [
        "def transform_house_Status(x):\n",
        "    if x=='Pegangan Pajakan':\n",
        "        return 1 \n",
        "    elif x=='Pegangan Bebas':\n",
        "        return 2 \n",
        "data['HouseStatus'] = data['HouseStatus'].apply(transform_house_Status)"
      ],
      "metadata": {
        "id": "vzEUOl6MIyWT"
      },
      "execution_count": 31,
      "outputs": []
    },
    {
      "cell_type": "code",
      "source": [
        "data.dropna(inplace=True)\n",
        "print(data.HouseType,data.HouseStatus)"
      ],
      "metadata": {
        "id": "3kjOT7kd-fdI",
        "outputId": "63d8792e-e5dd-43e7-9c23-3e564a2a5e65",
        "colab": {
          "base_uri": "https://localhost:8080/"
        }
      },
      "execution_count": 32,
      "outputs": [
        {
          "output_type": "stream",
          "name": "stdout",
          "text": [
            "0     2\n",
            "1     5\n",
            "2     1\n",
            "3     1\n",
            "4     1\n",
            "5     1\n",
            "6     1\n",
            "7     1\n",
            "8     1\n",
            "9     1\n",
            "10    1\n",
            "11    1\n",
            "12    1\n",
            "13    1\n",
            "15    5\n",
            "16    5\n",
            "18    1\n",
            "19    1\n",
            "20    1\n",
            "24    1\n",
            "25    1\n",
            "26    1\n",
            "27    1\n",
            "28    1\n",
            "29    1\n",
            "30    1\n",
            "31    1\n",
            "32    1\n",
            "33    1\n",
            "34    1\n",
            "35    1\n",
            "36    1\n",
            "37    1\n",
            "40    1\n",
            "41    1\n",
            "42    1\n",
            "43    3\n",
            "44    1\n",
            "45    1\n",
            "46    1\n",
            "47    1\n",
            "48    1\n",
            "49    1\n",
            "Name: HouseType, dtype: int64 0     1.0\n",
            "1     2.0\n",
            "2     2.0\n",
            "3     2.0\n",
            "4     1.0\n",
            "5     2.0\n",
            "6     2.0\n",
            "7     2.0\n",
            "8     2.0\n",
            "9     1.0\n",
            "10    2.0\n",
            "11    1.0\n",
            "12    2.0\n",
            "13    2.0\n",
            "15    2.0\n",
            "16    1.0\n",
            "18    2.0\n",
            "19    2.0\n",
            "20    2.0\n",
            "24    2.0\n",
            "25    2.0\n",
            "26    2.0\n",
            "27    2.0\n",
            "28    1.0\n",
            "29    2.0\n",
            "30    2.0\n",
            "31    2.0\n",
            "32    2.0\n",
            "33    2.0\n",
            "34    2.0\n",
            "35    2.0\n",
            "36    2.0\n",
            "37    1.0\n",
            "40    2.0\n",
            "41    2.0\n",
            "42    1.0\n",
            "43    1.0\n",
            "44    1.0\n",
            "45    2.0\n",
            "46    2.0\n",
            "47    2.0\n",
            "48    2.0\n",
            "49    2.0\n",
            "Name: HouseStatus, dtype: float64\n"
          ]
        }
      ]
    },
    {
      "cell_type": "markdown",
      "source": [
        "Data Balancing"
      ],
      "metadata": {
        "id": "aQzUoACNJWXW"
      }
    },
    {
      "cell_type": "markdown",
      "source": [
        "Feature selection"
      ],
      "metadata": {
        "id": "gUqqJGRtKanX"
      }
    },
    {
      "cell_type": "code",
      "source": [
        "X = data.drop(columns=\"Price\")\n",
        "y = data[\"Price\"]"
      ],
      "metadata": {
        "id": "oRlWZCiqKkx3"
      },
      "execution_count": 33,
      "outputs": []
    },
    {
      "cell_type": "code",
      "source": [
        "# splitting dataset into testing and training dataset\n",
        "\n",
        "from sklearn.model_selection import train_test_split\n",
        "\n",
        "X_train, X_test, y_train, y_test = train_test_split(X,y,test_size=0.2,random_state=10)"
      ],
      "metadata": {
        "id": "K9KIbFSeJYgX"
      },
      "execution_count": 34,
      "outputs": []
    },
    {
      "cell_type": "code",
      "source": [
        "# Using Pearson Correlation\n",
        "import seaborn as sns\n",
        "\n",
        "plt.figure(figsize=(8,6))\n",
        "cor = data.corr(method ='pearson')\n",
        "sns.heatmap(cor, annot=True, fmt='.2f',cmap=plt.cm.Reds)  \n",
        "plt.title(\"Correlation Between Features\")\n",
        "plt.savefig('pearsonsCorrelation.jpg',bbox_inches='tight')\n",
        "plt.show()"
      ],
      "metadata": {
        "colab": {
          "base_uri": "https://localhost:8080/",
          "height": 453
        },
        "id": "KTyNAuouKuqT",
        "outputId": "29ef98cb-3f94-4567-e14e-3685e713914d"
      },
      "execution_count": 35,
      "outputs": [
        {
          "output_type": "display_data",
          "data": {
            "text/plain": [
              "<Figure size 576x432 with 2 Axes>"
            ],
            "image/png": "[encoded data removed]"
          },
          "metadata": {
            "needs_background": "light"
          }
        }
      ]
    },
    {
      "cell_type": "code",
      "source": [
        "#Correlation with output variable\n",
        "cor_target = abs(cor[\"Price\"])\n",
        "\n",
        "#Selecting highly correlated features\n",
        "relevant_features = cor_target[cor_target>0.3]\n",
        "print(relevant_features)"
      ],
      "metadata": {
        "colab": {
          "base_uri": "https://localhost:8080/"
        },
        "id": "1ItYpskvK6P7",
        "outputId": "2f36240a-4dd1-4672-c19b-375cb06b9ffc"
      },
      "execution_count": 36,
      "outputs": [
        {
          "output_type": "stream",
          "name": "stdout",
          "text": [
            "Price        1.000000\n",
            "Bedroom      0.460429\n",
            "Bathroom     0.733704\n",
            "SizeArea     0.872411\n",
            "HouseType    0.590347\n",
            "Name: Price, dtype: float64\n"
          ]
        }
      ]
    },
    {
      "cell_type": "code",
      "source": [
        "corr_vars = set()\n",
        "corr_vars.update(relevant_features.index.unique(level=0))\n",
        "all_vars = set(data.columns)\n",
        "feature_cor = X.drop(columns=all_vars - corr_vars).columns"
      ],
      "metadata": {
        "id": "CHf6bQi3LKlN"
      },
      "execution_count": 37,
      "outputs": []
    },
    {
      "cell_type": "code",
      "source": [
        "print(data)"
      ],
      "metadata": {
        "colab": {
          "base_uri": "https://localhost:8080/"
        },
        "id": "ZbcuLjIaNXAn",
        "outputId": "6dc00001-4e02-4eab-96aa-a5397a9f8b3b"
      },
      "execution_count": 38,
      "outputs": [
        {
          "output_type": "stream",
          "name": "stdout",
          "text": [
            "     Price  Bedroom  Bathroom  SizeArea  HouseType  HouseStatus  \\\n",
            "0   625000        3         3      1257          2          1.0   \n",
            "1   800000        4         3      2200          5          2.0   \n",
            "2   390000        3         2      1024          1          2.0   \n",
            "3   179000        3         2       650          1          2.0   \n",
            "4   200000        3         2       628          1          1.0   \n",
            "5   105000        3         2       650          1          2.0   \n",
            "6   190000        3         2       720          1          2.0   \n",
            "7   180000        3         2       675          1          2.0   \n",
            "8   255000        3         2       696          1          2.0   \n",
            "9   320000        3         2       815          1          1.0   \n",
            "10  170000        3         2       650          1          2.0   \n",
            "11  295000        3         2       922          1          1.0   \n",
            "12  160000        3         2       720          1          2.0   \n",
            "13  265000        3         2       773          1          2.0   \n",
            "15  620000        3         3      1680          5          2.0   \n",
            "16  470000        4         3      1400          5          1.0   \n",
            "18  310000        3         2       783          1          2.0   \n",
            "19  310000        3         2       783          1          2.0   \n",
            "20  235000        2         1       600          1          2.0   \n",
            "24  215000        1         1       555          1          2.0   \n",
            "25  328000        3         2       847          1          2.0   \n",
            "26  235000        3         2       860          1          2.0   \n",
            "27  310000        3         2       883          1          2.0   \n",
            "28  298000        3         2      1019          1          1.0   \n",
            "29  360000        3         2      1150          1          2.0   \n",
            "30  275000        3         2       700          1          2.0   \n",
            "31  260000        3         2       710          1          2.0   \n",
            "32  190000        3         2       800          1          2.0   \n",
            "33  320000        3         2       901          1          2.0   \n",
            "34  420000        3         2      1030          1          2.0   \n",
            "35  200000        3         2       900          1          2.0   \n",
            "36  188000        3         2       807          1          2.0   \n",
            "37  278000        2         2       650          1          1.0   \n",
            "40  355000        3         2       838          1          2.0   \n",
            "41  680000        4         3      1600          1          2.0   \n",
            "42  324999        3         2      1104          1          1.0   \n",
            "43  198000        3         2      1063          3          1.0   \n",
            "44  315000        3         2       750          1          1.0   \n",
            "45  420000        3         2       935          1          2.0   \n",
            "46  420000        3         2       935          1          2.0   \n",
            "47  280000        2         2       686          1          2.0   \n",
            "48  390000        3         2       982          1          2.0   \n",
            "49  280000        3         2      1162          1          2.0   \n",
            "\n",
            "    transportation  playground  school  islamic_Centre  pool  sport_facility  \\\n",
            "0                1           1       1               0     0               1   \n",
            "1                0           1       1               1     0               1   \n",
            "2                1           1       1               1     0               0   \n",
            "3                1           0       1               1     0               0   \n",
            "4                1           1       1               1     0               1   \n",
            "5                1           0       1               1     0               0   \n",
            "6                0           0       1               1     0               0   \n",
            "7                1           1       1               1     0               1   \n",
            "8                1           1       1               1     0               1   \n",
            "9                1           1       1               1     0               1   \n",
            "10               1           1       1               1     0               1   \n",
            "11               1           1       1               1     0               0   \n",
            "12               0           0       1               1     0               1   \n",
            "13               1           1       1               1     0               1   \n",
            "15               1           0       1               1     0               0   \n",
            "16               1           1       1               1     0               1   \n",
            "18               1           1       1               1     0               1   \n",
            "19               1           1       1               1     0               1   \n",
            "20               1           1       1               1     0               1   \n",
            "24               0           1       1               1     1               1   \n",
            "25               1           0       1               1     1               0   \n",
            "26               1           1       1               1     1               1   \n",
            "27               1           1       1               1     1               1   \n",
            "28               1           0       1               0     1               1   \n",
            "29               1           1       1               1     1               1   \n",
            "30               1           1       0               1     1               1   \n",
            "31               1           1       0               1     1               1   \n",
            "32               1           1       0               1     1               1   \n",
            "33               1           1       1               1     1               1   \n",
            "34               1           1       1               1     1               1   \n",
            "35               1           1       1               1     1               1   \n",
            "36               1           1       1               1     1               1   \n",
            "37               0           1       1               1     1               1   \n",
            "40               1           1       1               1     1               1   \n",
            "41               1           1       1               1     1               1   \n",
            "42               1           1       1               1     1               1   \n",
            "43               0           1       1               1     1               1   \n",
            "44               0           1       1               1     1               1   \n",
            "45               1           1       1               1     1               1   \n",
            "46               1           1       1               1     1               1   \n",
            "47               0           1       1               1     1               1   \n",
            "48               0           1       1               0     1               1   \n",
            "49               1           0       1               1     1               0   \n",
            "\n",
            "    furnished  \n",
            "0           0  \n",
            "1           2  \n",
            "2           2  \n",
            "3           2  \n",
            "4           0  \n",
            "5           2  \n",
            "6           0  \n",
            "7           2  \n",
            "8           2  \n",
            "9           0  \n",
            "10          2  \n",
            "11          1  \n",
            "12          0  \n",
            "13          0  \n",
            "15          0  \n",
            "16          1  \n",
            "18          0  \n",
            "19          0  \n",
            "20          0  \n",
            "24          1  \n",
            "25          1  \n",
            "26          1  \n",
            "27          1  \n",
            "28          1  \n",
            "29          2  \n",
            "30          0  \n",
            "31          0  \n",
            "32          1  \n",
            "33          1  \n",
            "34          1  \n",
            "35          1  \n",
            "36          1  \n",
            "37          0  \n",
            "40          0  \n",
            "41          0  \n",
            "42          2  \n",
            "43          0  \n",
            "44          1  \n",
            "45          1  \n",
            "46          1  \n",
            "47          0  \n",
            "48          2  \n",
            "49          2  \n"
          ]
        }
      ]
    },
    {
      "cell_type": "markdown",
      "source": [
        "4.2.2 Embedded Method: Random Forest Importance"
      ],
      "metadata": {
        "id": "Mesc3DLiLRnb"
      }
    },
    {
      "cell_type": "code",
      "source": [
        "data.info()"
      ],
      "metadata": {
        "colab": {
          "base_uri": "https://localhost:8080/"
        },
        "id": "7UAzdFq-QQia",
        "outputId": "83a16be5-4449-49ba-c8b8-b2e695ff16d5"
      },
      "execution_count": 39,
      "outputs": [
        {
          "output_type": "stream",
          "name": "stdout",
          "text": [
            "<class 'pandas.core.frame.DataFrame'>\n",
            "Int64Index: 43 entries, 0 to 49\n",
            "Data columns (total 13 columns):\n",
            " #   Column          Non-Null Count  Dtype  \n",
            "---  ------          --------------  -----  \n",
            " 0   Price           43 non-null     int64  \n",
            " 1   Bedroom         43 non-null     int64  \n",
            " 2   Bathroom        43 non-null     int64  \n",
            " 3   SizeArea        43 non-null     int64  \n",
            " 4   HouseType       43 non-null     int64  \n",
            " 5   HouseStatus     43 non-null     float64\n",
            " 6   transportation  43 non-null     int64  \n",
            " 7   playground      43 non-null     int64  \n",
            " 8   school          43 non-null     int64  \n",
            " 9   islamic_Centre  43 non-null     int64  \n",
            " 10  pool            43 non-null     int64  \n",
            " 11  sport_facility  43 non-null     int64  \n",
            " 12  furnished       43 non-null     int64  \n",
            "dtypes: float64(1), int64(12)\n",
            "memory usage: 4.7 KB\n"
          ]
        }
      ]
    },
    {
      "cell_type": "code",
      "source": [
        "from sklearn.impute import SimpleImputer\n",
        "imp = SimpleImputer(missing_values=np.nan, strategy='mean')\n",
        "imp.fit(X)"
      ],
      "metadata": {
        "colab": {
          "base_uri": "https://localhost:8080/"
        },
        "id": "F4y86WmDRcTP",
        "outputId": "6f4ceb69-4797-49c0-afd7-0fc0397da257"
      },
      "execution_count": 40,
      "outputs": [
        {
          "output_type": "execute_result",
          "data": {
            "text/plain": [
              "SimpleImputer()"
            ]
          },
          "metadata": {},
          "execution_count": 40
        }
      ]
    },
    {
      "cell_type": "code",
      "source": [
        "# embedded method: random forest feature selection\n",
        "from sklearn.ensemble import RandomForestClassifier\n",
        "\n",
        "clf = RandomForestClassifier(random_state=10)\n",
        "clf.fit(X_train,y_train)\n",
        "\n",
        "feature_imp = pd.Series(clf.feature_importances_,index=X.columns).sort_values(ascending=False)\n",
        "sns.barplot(x=feature_imp, y=feature_imp.index)\n",
        "plt.xlabel('Feature Importance Score')\n",
        "plt.ylabel('Features')\n",
        "plt.title(\"Random Forest Feature Importance\")\n",
        "plt.savefig('RandomForestFeatureImportance.jpg',bbox_inches='tight')\n",
        "plt.show()"
      ],
      "metadata": {
        "id": "UdaWhObwSOAN",
        "colab": {
          "base_uri": "https://localhost:8080/",
          "height": 295
        },
        "outputId": "491b7432-5190-41c3-95b8-6d23fe01ee32"
      },
      "execution_count": 41,
      "outputs": [
        {
          "output_type": "display_data",
          "data": {
            "text/plain": [
              "<Figure size 432x288 with 1 Axes>"
            ],
            "image/png": "[encoded data removed]"
          },
          "metadata": {
            "needs_background": "light"
          }
        }
      ]
    },
    {
      "cell_type": "code",
      "source": [
        "from sklearn.feature_selection import SelectFromModel\n",
        "from sklearn.ensemble import RandomForestClassifier\n",
        "\n",
        "clf = RandomForestClassifier(random_state=10)\n",
        "sel = SelectFromModel(clf)\n",
        "sel.fit(X_train,y_train)\n",
        "sel.get_support()\n",
        "feature_sel = X.columns[(sel.get_support())]\n",
        "\n",
        "print(\"Selected Feature:\")\n",
        "for i in range (0,len(feature_sel)):\n",
        "    print(i+1,'-',feature_sel[i])"
      ],
      "metadata": {
        "colab": {
          "base_uri": "https://localhost:8080/"
        },
        "id": "RmQilntRLP-b",
        "outputId": "d68c78e5-0b2a-455d-95e3-82204b45e7b7"
      },
      "execution_count": 42,
      "outputs": [
        {
          "output_type": "stream",
          "name": "stdout",
          "text": [
            "Selected Feature:\n",
            "1 - SizeArea\n",
            "2 - furnished\n"
          ]
        }
      ]
    },
    {
      "cell_type": "markdown",
      "source": [
        "LINEAR REGRESSION FEATURE IMPORTANCE"
      ],
      "metadata": {
        "id": "9M316rRbz0Ea"
      }
    },
    {
      "cell_type": "code",
      "source": [
        "# compare accuracy from each feature selection method\n",
        "\n",
        "from sklearn import metrics\n",
        "\n",
        "clf = RandomForestClassifier(random_state=10)\n",
        "\n",
        "# accuracy of correlation method\n",
        "clf.fit(X_train[feature_cor],y_train)\n",
        "y_pred = clf.predict(X_test[feature_cor])\n",
        "cor_accuracy = metrics.accuracy_score(y_test,y_pred)\n",
        "\n",
        "# accuracy of tree based feature selection (embedded method)\n",
        "clf.fit(X_train[feature_sel],y_train)\n",
        "y_pred = clf.predict(X_test[feature_sel])\n",
        "sel_accuracy = metrics.accuracy_score(y_test,y_pred)"
      ],
      "metadata": {
        "id": "oUUlPJbNzzry"
      },
      "execution_count": 43,
      "outputs": []
    },
    {
      "cell_type": "code",
      "source": [
        "# plotting the comparison between the feature selection method\n",
        "\n",
        "plt.subplots(figsize=(4,5))\n",
        "\n",
        "method = ['Pearson\\nCorrelation','RF Importance']\n",
        "accuracy = [cor_accuracy,sel_accuracy]\n",
        "\n",
        "ax = sns.barplot(x=method,y=accuracy)\n",
        "ax.set_xlabel('Feature Selection Method')\n",
        "ax.set_ylabel('Accuracy')\n",
        "for i,v in enumerate(accuracy):\n",
        "    ax.text(i - .2,v + .01,\"{:.2%}\".format(v))\n",
        "\n",
        "plt.title(\"Comparison of Feature Selection Method\")\n",
        "plt.tight_layout()\n",
        "plt.show()"
      ],
      "metadata": {
        "colab": {
          "base_uri": "https://localhost:8080/",
          "height": 369
        },
        "id": "JbtcIrLtz8NJ",
        "outputId": "32c0aa13-476a-43f5-db81-b51d566480e1"
      },
      "execution_count": 44,
      "outputs": [
        {
          "output_type": "display_data",
          "data": {
            "text/plain": [
              "<Figure size 288x360 with 1 Axes>"
            ],
            "image/png": "[encoded data removed]"
          },
          "metadata": {
            "needs_background": "light"
          }
        }
      ]
    },
    {
      "cell_type": "markdown",
      "source": [
        "Machine Learning training"
      ],
      "metadata": {
        "id": "2lVXo4Md6Ysm"
      }
    },
    {
      "cell_type": "code",
      "source": [
        "# update X_train,X_test\n",
        "X_train = X_train[feature_sel]\n",
        "X_test = X_test[feature_sel]"
      ],
      "metadata": {
        "id": "-NZw-vTZ6W1-"
      },
      "execution_count": 45,
      "outputs": []
    },
    {
      "cell_type": "code",
      "source": [
        "import pandas as pd\n",
        "import numpy as np\n",
        "from sklearn.model_selection import train_test_split\n",
        "from sklearn.metrics import mean_absolute_error, mean_squared_error,median_absolute_error, r2_score, explained_variance_score, max_error,mean_absolute_percentage_error\n",
        "\n",
        "def forecast_accuracy(forecast, actual):\n",
        "    print(\"R2 Score: %.3f\" % r2_score(actual, forecast))\n",
        "    print(\"Mean Squared Error (MSE): %.3f\" % mean_squared_error(actual, forecast))\n",
        "    print(\"Root Mean Squared Error (RMSE): %.3f\" % mean_squared_error(actual, forecast, squared=False))\n",
        "    print(\"Mean Absolute Error (MAE): %.3f\" % mean_absolute_error(actual, forecast))\n",
        "    print(\"Mean Absolute Percentage Error (MAPE): %.3f\" % mean_absolute_percentage_error(actual, forecast))\n",
        "    print(\"Median Absolute Error (MAE): %.3f\" % median_absolute_error(actual, forecast))\n",
        "    print(\"Explained Variance Score: %.3f\" % explained_variance_score(actual, forecast))\n",
        "    print(\"Max Error: %.3f\" % max_error(actual, forecast))\n",
        "\n",
        "def accuracy(forecast,actual):   \n",
        "    return r2_score(actual, forecast)\n",
        "\n",
        "\n",
        "X_train, X_test, y_train, y_test = train_test_split(X, y, \n",
        "                                                    test_size=0.3,\n",
        "                                                    random_state=43)\n",
        "\n",
        "from sklearn.ensemble import RandomForestRegressor\n",
        "modelRF = RandomForestRegressor()\n",
        "modelRF.fit(X_train, y_train)\n",
        "\n",
        "y_pred = modelRF.predict(X_test)\n",
        "\n",
        "print(\"\\nRANDOM FOREST REGRESSOR\\n\")\n",
        "forecast_accuracy(y_pred, y_test)\n",
        "AccuracyRF= accuracy(y_pred,y_test)\n"
      ],
      "metadata": {
        "colab": {
          "base_uri": "https://localhost:8080/"
        },
        "id": "7S_Wkdq-63zG",
        "outputId": "9b192ee9-e227-47f4-e130-0bd9fb068730"
      },
      "execution_count": 46,
      "outputs": [
        {
          "output_type": "stream",
          "name": "stdout",
          "text": [
            "\n",
            "RANDOM FOREST REGRESSOR\n",
            "\n",
            "R2 Score: 0.812\n",
            "Mean Squared Error (MSE): 2946416441.615\n",
            "Root Mean Squared Error (RMSE): 54280.903\n",
            "Mean Absolute Error (MAE): 45623.154\n",
            "Mean Absolute Percentage Error (MAPE): 0.192\n",
            "Median Absolute Error (MAE): 37850.000\n",
            "Explained Variance Score: 0.819\n",
            "Max Error: 92170.000\n"
          ]
        }
      ]
    },
    {
      "cell_type": "code",
      "source": [
        "import matplotlib.pyplot as plt\n",
        "from sklearn.svm import SVR\n",
        "import seaborn as sns\n",
        "\n",
        "\n",
        "X_train, X_test, y_train, y_test = train_test_split(X, y, test_size = 0.30)\n",
        "\n",
        "#Training SVM kenel 'linear','poly', 'rbf', 'sigmoid'\n",
        "svclassifier = SVR(kernel='linear')\n",
        "svclassifier.fit(X_train, y_train)\n",
        "\n",
        "#Make prediction\n",
        "y_pred = svclassifier.predict(X_test)\n",
        "\n",
        "print(\"\\nSV LINEAR REGRESSOR\\n\")\n",
        "forecast_accuracy(y_pred, y_test)\n",
        "AccuracySV= accuracy(y_pred,y_test)"
      ],
      "metadata": {
        "colab": {
          "base_uri": "https://localhost:8080/"
        },
        "id": "lBmWw-gy7_-t",
        "outputId": "e7422320-a77c-4489-eb82-1412b8eeb8af"
      },
      "execution_count": 47,
      "outputs": [
        {
          "output_type": "stream",
          "name": "stdout",
          "text": [
            "\n",
            "SV LINEAR REGRESSOR\n",
            "\n",
            "R2 Score: 0.662\n",
            "Mean Squared Error (MSE): 3628233613.354\n",
            "Root Mean Squared Error (RMSE): 60234.821\n",
            "Mean Absolute Error (MAE): 47989.092\n",
            "Mean Absolute Percentage Error (MAPE): 0.174\n",
            "Median Absolute Error (MAE): 39351.915\n",
            "Explained Variance Score: 0.778\n",
            "Max Error: 137690.414\n"
          ]
        }
      ]
    },
    {
      "cell_type": "code",
      "source": [
        "from sklearn.model_selection import train_test_split\n",
        "from sklearn.metrics import mean_squared_error as MSE\n",
        "from sklearn.model_selection import cross_val_score\n",
        "from sklearn.model_selection import RepeatedKFold\n",
        "from xgboost import XGBRegressor\n",
        "from numpy import absolute\n",
        "\n",
        "\n",
        "# Splitting\n",
        "train_X, test_X, train_y, test_y = train_test_split(X, y,\n",
        "                      test_size = 0.3)\n",
        " \n",
        "# define model\n",
        "modelXG = XGBRegressor()\n",
        "modelXG.fit(X_train, y_train)\n",
        "\n",
        "#Make prediction\n",
        "y_pred = modelXG.predict(X_test)\n",
        "\n",
        "print(\"\\nXGBoost REGRESSOR\\n\")\n",
        "forecast_accuracy(y_pred, y_test)\n",
        "AccuracyXG= accuracy(y_pred,y_test)"
      ],
      "metadata": {
        "colab": {
          "base_uri": "https://localhost:8080/"
        },
        "id": "JWOQH3yS8nPO",
        "outputId": "91c7eb53-886d-4ef0-d247-fceec4c5dfe7"
      },
      "execution_count": 48,
      "outputs": [
        {
          "output_type": "stream",
          "name": "stdout",
          "text": [
            "[01:59:54] WARNING: /workspace/src/objective/regression_obj.cu:152: reg:linear is now deprecated in favor of reg:squarederror.\n",
            "\n",
            "XGBoost REGRESSOR\n",
            "\n",
            "R2 Score: 0.112\n",
            "Mean Squared Error (MSE): 9528746716.250\n",
            "Root Mean Squared Error (RMSE): 97615.300\n",
            "Mean Absolute Error (MAE): 80560.287\n",
            "Mean Absolute Percentage Error (MAPE): 0.270\n",
            "Median Absolute Error (MAE): 82778.562\n",
            "Explained Variance Score: 0.252\n",
            "Max Error: 209792.688\n"
          ]
        }
      ]
    },
    {
      "cell_type": "code",
      "source": [
        "data.head()\n"
      ],
      "metadata": {
        "colab": {
          "base_uri": "https://localhost:8080/",
          "height": 270
        },
        "id": "fkEwMViHEpvJ",
        "outputId": "422d5674-84d2-411f-ace2-453a19c74fa8"
      },
      "execution_count": 49,
      "outputs": [
        {
          "output_type": "execute_result",
          "data": {
            "text/plain": [
              "    Price  Bedroom  Bathroom  SizeArea  HouseType  HouseStatus  \\\n",
              "0  625000        3         3      1257          2          1.0   \n",
              "1  800000        4         3      2200          5          2.0   \n",
              "2  390000        3         2      1024          1          2.0   \n",
              "3  179000        3         2       650          1          2.0   \n",
              "4  200000        3         2       628          1          1.0   \n",
              "\n",
              "   transportation  playground  school  islamic_Centre  pool  sport_facility  \\\n",
              "0               1           1       1               0     0               1   \n",
              "1               0           1       1               1     0               1   \n",
              "2               1           1       1               1     0               0   \n",
              "3               1           0       1               1     0               0   \n",
              "4               1           1       1               1     0               1   \n",
              "\n",
              "   furnished  \n",
              "0          0  \n",
              "1          2  \n",
              "2          2  \n",
              "3          2  \n",
              "4          0  "
            ],
            "text/html": [
              "\n",
              "  <div id=\"df-00967364-62cd-4a21-960f-fe056e379825\">\n",
              "    <div class=\"colab-df-container\">\n",
              "      <div>\n",
              "<style scoped>\n",
              "    .dataframe tbody tr th:only-of-type {\n",
              "        vertical-align: middle;\n",
              "    }\n",
              "\n",
              "    .dataframe tbody tr th {\n",
              "        vertical-align: top;\n",
              "    }\n",
              "\n",
              "    .dataframe thead th {\n",
              "        text-align: right;\n",
              "    }\n",
              "</style>\n",
              "<table border=\"1\" class=\"dataframe\">\n",
              "  <thead>\n",
              "    <tr style=\"text-align: right;\">\n",
              "      <th></th>\n",
              "      <th>Price</th>\n",
              "      <th>Bedroom</th>\n",
              "      <th>Bathroom</th>\n",
              "      <th>SizeArea</th>\n",
              "      <th>HouseType</th>\n",
              "      <th>HouseStatus</th>\n",
              "      <th>transportation</th>\n",
              "      <th>playground</th>\n",
              "      <th>school</th>\n",
              "      <th>islamic_Centre</th>\n",
              "      <th>pool</th>\n",
              "      <th>sport_facility</th>\n",
              "      <th>furnished</th>\n",
              "    </tr>\n",
              "  </thead>\n",
              "  <tbody>\n",
              "    <tr>\n",
              "      <th>0</th>\n",
              "      <td>625000</td>\n",
              "      <td>3</td>\n",
              "      <td>3</td>\n",
              "      <td>1257</td>\n",
              "      <td>2</td>\n",
              "      <td>1.0</td>\n",
              "      <td>1</td>\n",
              "      <td>1</td>\n",
              "      <td>1</td>\n",
              "      <td>0</td>\n",
              "      <td>0</td>\n",
              "      <td>1</td>\n",
              "      <td>0</td>\n",
              "    </tr>\n",
              "    <tr>\n",
              "      <th>1</th>\n",
              "      <td>800000</td>\n",
              "      <td>4</td>\n",
              "      <td>3</td>\n",
              "      <td>2200</td>\n",
              "      <td>5</td>\n",
              "      <td>2.0</td>\n",
              "      <td>0</td>\n",
              "      <td>1</td>\n",
              "      <td>1</td>\n",
              "      <td>1</td>\n",
              "      <td>0</td>\n",
              "      <td>1</td>\n",
              "      <td>2</td>\n",
              "    </tr>\n",
              "    <tr>\n",
              "      <th>2</th>\n",
              "      <td>390000</td>\n",
              "      <td>3</td>\n",
              "      <td>2</td>\n",
              "      <td>1024</td>\n",
              "      <td>1</td>\n",
              "      <td>2.0</td>\n",
              "      <td>1</td>\n",
              "      <td>1</td>\n",
              "      <td>1</td>\n",
              "      <td>1</td>\n",
              "      <td>0</td>\n",
              "      <td>0</td>\n",
              "      <td>2</td>\n",
              "    </tr>\n",
              "    <tr>\n",
              "      <th>3</th>\n",
              "      <td>179000</td>\n",
              "      <td>3</td>\n",
              "      <td>2</td>\n",
              "      <td>650</td>\n",
              "      <td>1</td>\n",
              "      <td>2.0</td>\n",
              "      <td>1</td>\n",
              "      <td>0</td>\n",
              "      <td>1</td>\n",
              "      <td>1</td>\n",
              "      <td>0</td>\n",
              "      <td>0</td>\n",
              "      <td>2</td>\n",
              "    </tr>\n",
              "    <tr>\n",
              "      <th>4</th>\n",
              "      <td>200000</td>\n",
              "      <td>3</td>\n",
              "      <td>2</td>\n",
              "      <td>628</td>\n",
              "      <td>1</td>\n",
              "      <td>1.0</td>\n",
              "      <td>1</td>\n",
              "      <td>1</td>\n",
              "      <td>1</td>\n",
              "      <td>1</td>\n",
              "      <td>0</td>\n",
              "      <td>1</td>\n",
              "      <td>0</td>\n",
              "    </tr>\n",
              "  </tbody>\n",
              "</table>\n",
              "</div>\n",
              "      <button class=\"colab-df-convert\" onclick=\"convertToInteractive('df-00967364-62cd-4a21-960f-fe056e379825')\"\n",
              "              title=\"Convert this dataframe to an interactive table.\"\n",
              "              style=\"display:none;\">\n",
              "        \n",
              "  <svg xmlns=\"http://www.w3.org/2000/svg\" height=\"24px\"viewBox=\"0 0 24 24\"\n",
              "       width=\"24px\">\n",
              "    <path d=\"M0 0h24v24H0V0z\" fill=\"none\"/>\n",
              "    <path d=\"M18.56 5.44l.94 2.06.94-2.06 2.06-.94-2.06-.94-.94-2.06-.94 2.06-2.06.94zm-11 1L8.5 8.5l.94-2.06 2.06-.94-2.06-.94L8.5 2.5l-.94 2.06-2.06.94zm10 10l.94 2.06.94-2.06 2.06-.94-2.06-.94-.94-2.06-.94 2.06-2.06.94z\"/><path d=\"M17.41 7.96l-1.37-1.37c-.4-.4-.92-.59-1.43-.59-.52 0-1.04.2-1.43.59L10.3 9.45l-7.72 7.72c-.78.78-.78 2.05 0 2.83L4 21.41c.39.39.9.59 1.41.59.51 0 1.02-.2 1.41-.59l7.78-7.78 2.81-2.81c.8-.78.8-2.07 0-2.86zM5.41 20L4 18.59l7.72-7.72 1.47 1.35L5.41 20z\"/>\n",
              "  </svg>\n",
              "      </button>\n",
              "      \n",
              "  <style>\n",
              "    .colab-df-container {\n",
              "      display:flex;\n",
              "      flex-wrap:wrap;\n",
              "      gap: 12px;\n",
              "    }\n",
              "\n",
              "    .colab-df-convert {\n",
              "      background-color: #E8F0FE;\n",
              "      border: none;\n",
              "      border-radius: 50%;\n",
              "      cursor: pointer;\n",
              "      display: none;\n",
              "      fill: #1967D2;\n",
              "      height: 32px;\n",
              "      padding: 0 0 0 0;\n",
              "      width: 32px;\n",
              "    }\n",
              "\n",
              "    .colab-df-convert:hover {\n",
              "      background-color: #E2EBFA;\n",
              "      box-shadow: 0px 1px 2px rgba(60, 64, 67, 0.3), 0px 1px 3px 1px rgba(60, 64, 67, 0.15);\n",
              "      fill: #174EA6;\n",
              "    }\n",
              "\n",
              "    [theme=dark] .colab-df-convert {\n",
              "      background-color: #3B4455;\n",
              "      fill: #D2E3FC;\n",
              "    }\n",
              "\n",
              "    [theme=dark] .colab-df-convert:hover {\n",
              "      background-color: #434B5C;\n",
              "      box-shadow: 0px 1px 3px 1px rgba(0, 0, 0, 0.15);\n",
              "      filter: drop-shadow(0px 1px 2px rgba(0, 0, 0, 0.3));\n",
              "      fill: #FFFFFF;\n",
              "    }\n",
              "  </style>\n",
              "\n",
              "      <script>\n",
              "        const buttonEl =\n",
              "          document.querySelector('#df-00967364-62cd-4a21-960f-fe056e379825 button.colab-df-convert');\n",
              "        buttonEl.style.display =\n",
              "          google.colab.kernel.accessAllowed ? 'block' : 'none';\n",
              "\n",
              "        async function convertToInteractive(key) {\n",
              "          const element = document.querySelector('#df-00967364-62cd-4a21-960f-fe056e379825');\n",
              "          const dataTable =\n",
              "            await google.colab.kernel.invokeFunction('convertToInteractive',\n",
              "                                                     [key], {});\n",
              "          if (!dataTable) return;\n",
              "\n",
              "          const docLinkHtml = 'Like what you see? Visit the ' +\n",
              "            '<a target=\"_blank\" href=https://colab.research.google.com/notebooks/data_table.ipynb>data table notebook</a>'\n",
              "            + ' to learn more about interactive tables.';\n",
              "          element.innerHTML = '';\n",
              "          dataTable['output_type'] = 'display_data';\n",
              "          await google.colab.output.renderOutput(dataTable, element);\n",
              "          const docLink = document.createElement('div');\n",
              "          docLink.innerHTML = docLinkHtml;\n",
              "          element.appendChild(docLink);\n",
              "        }\n",
              "      </script>\n",
              "    </div>\n",
              "  </div>\n",
              "  "
            ]
          },
          "metadata": {},
          "execution_count": 49
        }
      ]
    },
    {
      "cell_type": "code",
      "source": [
        "model = ['Random Forest','Support Vector','XGBoost']\n",
        "accuracy = [AccuracyRF, AccuracySV, AccuracyXG]\n"
      ],
      "metadata": {
        "id": "Tqggw1hoFAKD"
      },
      "execution_count": 50,
      "outputs": []
    },
    {
      "cell_type": "code",
      "source": [
        "plt.figure(figsize=(8,5))\n",
        "\n",
        "plt.bar(model, accuracy)\n",
        "plt.title('Machine Learning Model Comparison')\n",
        "plt.ylabel('Accuracy')\n",
        "for i,v in enumerate(accuracy):\n",
        "    plt.text(i - .1,v + .01,\"{:.2%}\".format(v))\n",
        "\n",
        "plt.show()"
      ],
      "metadata": {
        "colab": {
          "base_uri": "https://localhost:8080/",
          "height": 336
        },
        "id": "CryRoKlPDGZC",
        "outputId": "f78e9010-90de-408f-9713-cf59a37c5096"
      },
      "execution_count": 51,
      "outputs": [
        {
          "output_type": "display_data",
          "data": {
            "text/plain": [
              "<Figure size 576x360 with 1 Axes>"
            ],
            "image/png": "[encoded data removed]"
          },
          "metadata": {
            "needs_background": "light"
          }
        }
      ]
    },
    {
      "cell_type": "code",
      "source": [
        "# save the model to disk\n",
        "import pickle\n",
        "\n",
        "filename = 'model\\predictive_model.sav'\n",
        "\n",
        "tuple_objects = (modelXG, AccuracyXG)\n",
        "\n",
        "# Save tuple\n",
        "pickle.dump(tuple_objects, open(filename, 'wb'))"
      ],
      "metadata": {
        "id": "0gsp5b-agP_s"
      },
      "execution_count": 52,
      "outputs": []
    }
  ]
}